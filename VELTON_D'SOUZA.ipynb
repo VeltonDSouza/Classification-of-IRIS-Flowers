{
  "nbformat": 4,
  "nbformat_minor": 0,
  "metadata": {
    "colab": {
      "name": "VELTON_D'SOUZA.ipynb",
      "provenance": [],
      "collapsed_sections": []
    },
    "kernelspec": {
      "name": "python3",
      "display_name": "Python 3"
    }
  },
  "cells": [
    {
      "cell_type": "markdown",
      "metadata": {
        "id": "ARFUvnvjYaho"
      },
      "source": [
        "**Classification of Iris Flowers Using their petal, sepal lenght and width.**\n",
        "\n",
        "\n",
        "Importing main libraries"
      ]
    },
    {
      "cell_type": "code",
      "metadata": {
        "id": "8fmyFOJiYZn2"
      },
      "source": [
        "import pandas as pd \n",
        "import numpy as np"
      ],
      "execution_count": null,
      "outputs": []
    },
    {
      "cell_type": "markdown",
      "metadata": {
        "id": "SlgikTPOY9Be"
      },
      "source": [
        "Importing iris data from sklearn library"
      ]
    },
    {
      "cell_type": "code",
      "metadata": {
        "id": "HvkZaSByZgkb"
      },
      "source": [
        "from sklearn.datasets import load_iris\n",
        "iris_dataset = load_iris()"
      ],
      "execution_count": null,
      "outputs": []
    },
    {
      "cell_type": "code",
      "metadata": {
        "colab": {
          "base_uri": "https://localhost:8080/"
        },
        "id": "kt735L9fcGcC",
        "outputId": "f90fbc26-a16d-4d46-9ee5-df549a2a2018"
      },
      "source": [
        "print(\"keys of iris_dataset: \\n{}\".format(iris_dataset.keys()))"
      ],
      "execution_count": null,
      "outputs": [
        {
          "output_type": "stream",
          "text": [
            "keys of iris_dataset: \n",
            "dict_keys(['data', 'target', 'target_names', 'DESCR', 'feature_names', 'filename'])\n"
          ],
          "name": "stdout"
        }
      ]
    },
    {
      "cell_type": "markdown",
      "metadata": {
        "id": "xrqGi23nfZT6"
      },
      "source": [
        "Looking what each key holds values/details for"
      ]
    },
    {
      "cell_type": "markdown",
      "metadata": {
        "id": "YlK6sddQhK8I"
      },
      "source": [
        "1] DESCR (Description)\n",
        "      Printing instances and attributes"
      ]
    },
    {
      "cell_type": "code",
      "metadata": {
        "colab": {
          "base_uri": "https://localhost:8080/"
        },
        "id": "ualAoGrGf1PY",
        "outputId": "428b5d37-bd45-493c-84e3-4203c354e428"
      },
      "source": [
        "val = iris_dataset['DESCR']\n",
        "start_val = val[:200]\n",
        "print(start_val+\"\\n...\")"
      ],
      "execution_count": null,
      "outputs": [
        {
          "output_type": "stream",
          "text": [
            ".. _iris_dataset:\n",
            "\n",
            "Iris plants dataset\n",
            "--------------------\n",
            "\n",
            "**Data Set Characteristics:**\n",
            "\n",
            "    :Number of Instances: 150 (50 in each of three classes)\n",
            "    :Number of Attributes: 4 numeric, predictive\n",
            "...\n"
          ],
          "name": "stdout"
        }
      ]
    },
    {
      "cell_type": "markdown",
      "metadata": {
        "id": "GtrjgGMphbP7"
      },
      "source": [
        "2] Target_names: \n",
        "     Describing and printing names of flower"
      ]
    },
    {
      "cell_type": "code",
      "metadata": {
        "colab": {
          "base_uri": "https://localhost:8080/"
        },
        "id": "Ht1c14d_hj7s",
        "outputId": "be68eeb5-98ef-46ca-94eb-3006c82cbc82"
      },
      "source": [
        "print(\"target names: {}\".format(iris_dataset['target_names']))"
      ],
      "execution_count": null,
      "outputs": [
        {
          "output_type": "stream",
          "text": [
            "target names: ['setosa' 'versicolor' 'virginica']\n"
          ],
          "name": "stdout"
        }
      ]
    },
    {
      "cell_type": "markdown",
      "metadata": {
        "id": "9XW4-qzaiGea"
      },
      "source": [
        "3] Feature_names : describing mathematically measurement of flowers petal and sepal"
      ]
    },
    {
      "cell_type": "code",
      "metadata": {
        "colab": {
          "base_uri": "https://localhost:8080/"
        },
        "id": "Mf_gwzNgiLWR",
        "outputId": "5016645f-cf39-4136-da81-bc7b464244cf"
      },
      "source": [
        "print(\"feature names: \\n {}\".format(iris_dataset['feature_names']))"
      ],
      "execution_count": null,
      "outputs": [
        {
          "output_type": "stream",
          "text": [
            "feature names: \n",
            " ['sepal length (cm)', 'sepal width (cm)', 'petal length (cm)', 'petal width (cm)']\n"
          ],
          "name": "stdout"
        }
      ]
    },
    {
      "cell_type": "markdown",
      "metadata": {
        "id": "Oab3x_L6i7_v"
      },
      "source": [
        "4] Data"
      ]
    },
    {
      "cell_type": "markdown",
      "metadata": {
        "id": "8DqLt9utl9vV"
      },
      "source": [
        "This code will tell us the type of class"
      ]
    },
    {
      "cell_type": "code",
      "metadata": {
        "colab": {
          "base_uri": "https://localhost:8080/"
        },
        "id": "FRBCRsjBjAL_",
        "outputId": "3523b04c-9d3f-4d3e-af7e-60dc5705e914"
      },
      "source": [
        "print(\"type of data: {}\".format(type(iris_dataset['data'])))"
      ],
      "execution_count": null,
      "outputs": [
        {
          "output_type": "stream",
          "text": [
            "type of data: <class 'numpy.ndarray'>\n"
          ],
          "name": "stdout"
        }
      ]
    },
    {
      "cell_type": "markdown",
      "metadata": {
        "id": "SA3T9i67n28R"
      },
      "source": [
        "The below code will give us the row and column i.e flowers and their measurments resp."
      ]
    },
    {
      "cell_type": "code",
      "metadata": {
        "colab": {
          "base_uri": "https://localhost:8080/"
        },
        "id": "2OU8pI3RmIC-",
        "outputId": "410e9f8a-0e72-42c6-b8c6-eb7002ed2c3b"
      },
      "source": [
        "print(\"shape of data: {}\".format(iris_dataset['data'].shape))"
      ],
      "execution_count": null,
      "outputs": [
        {
          "output_type": "stream",
          "text": [
            "shape of data: (150, 4)\n"
          ],
          "name": "stdout"
        }
      ]
    },
    {
      "cell_type": "markdown",
      "metadata": {
        "id": "3uDXm_Dupecj"
      },
      "source": [
        "Printing the first five rows of data"
      ]
    },
    {
      "cell_type": "code",
      "metadata": {
        "colab": {
          "base_uri": "https://localhost:8080/"
        },
        "id": "szbSFdGUoqVG",
        "outputId": "a6d9e850-1da2-4774-bb28-3671d811d48f"
      },
      "source": [
        "print(\"first five rows of data:\\n{}\".format(iris_dataset['data'][:5]))"
      ],
      "execution_count": null,
      "outputs": [
        {
          "output_type": "stream",
          "text": [
            "first five rows of data:\n",
            "[[5.1 3.5 1.4 0.2]\n",
            " [4.9 3.  1.4 0.2]\n",
            " [4.7 3.2 1.3 0.2]\n",
            " [4.6 3.1 1.5 0.2]\n",
            " [5.  3.6 1.4 0.2]]\n"
          ],
          "name": "stdout"
        }
      ]
    },
    {
      "cell_type": "markdown",
      "metadata": {
        "id": "BzKwpbyrpurM"
      },
      "source": [
        "5]  Target (which species it belongs to)\n"
      ]
    },
    {
      "cell_type": "code",
      "metadata": {
        "colab": {
          "base_uri": "https://localhost:8080/"
        },
        "id": "MN2MolALp3PL",
        "outputId": "c78f9440-bdb2-4eb2-b9e4-73d2d908e8ff"
      },
      "source": [
        "print(\"type of target: {}\".format(type(iris_dataset['target'])))"
      ],
      "execution_count": null,
      "outputs": [
        {
          "output_type": "stream",
          "text": [
            "type of target: <class 'numpy.ndarray'>\n"
          ],
          "name": "stdout"
        }
      ]
    },
    {
      "cell_type": "code",
      "metadata": {
        "colab": {
          "base_uri": "https://localhost:8080/"
        },
        "id": "yZCLq9xHsY0f",
        "outputId": "66f430ec-a26e-471d-8d47-adf55036cce0"
      },
      "source": [
        "print(\"shape of target: {}\".format(iris_dataset['target'].shape))"
      ],
      "execution_count": null,
      "outputs": [
        {
          "output_type": "stream",
          "text": [
            "shape of target: (150,)\n"
          ],
          "name": "stdout"
        }
      ]
    },
    {
      "cell_type": "markdown",
      "metadata": {
        "id": "O0-qcQxKVC_2"
      },
      "source": [
        "Representation for flowers= \n",
        "0: setosa\n",
        "1: versicolor \n",
        "2: virginica"
      ]
    },
    {
      "cell_type": "code",
      "metadata": {
        "colab": {
          "base_uri": "https://localhost:8080/"
        },
        "id": "JGrZX9t_tGS5",
        "outputId": "6a507938-38cc-41e4-b598-a8c33b6f3e19"
      },
      "source": [
        "print(\"target:\\n{}\".format(iris_dataset['target']))"
      ],
      "execution_count": null,
      "outputs": [
        {
          "output_type": "stream",
          "text": [
            "target:\n",
            "[0 0 0 0 0 0 0 0 0 0 0 0 0 0 0 0 0 0 0 0 0 0 0 0 0 0 0 0 0 0 0 0 0 0 0 0 0\n",
            " 0 0 0 0 0 0 0 0 0 0 0 0 0 1 1 1 1 1 1 1 1 1 1 1 1 1 1 1 1 1 1 1 1 1 1 1 1\n",
            " 1 1 1 1 1 1 1 1 1 1 1 1 1 1 1 1 1 1 1 1 1 1 1 1 1 1 2 2 2 2 2 2 2 2 2 2 2\n",
            " 2 2 2 2 2 2 2 2 2 2 2 2 2 2 2 2 2 2 2 2 2 2 2 2 2 2 2 2 2 2 2 2 2 2 2 2 2\n",
            " 2 2]\n"
          ],
          "name": "stdout"
        }
      ]
    },
    {
      "cell_type": "markdown",
      "metadata": {
        "id": "X6a5M5AfwQsy"
      },
      "source": [
        "Importing from sklearn and  Now Adding a framework to split the data in 2 parts"
      ]
    },
    {
      "cell_type": "code",
      "metadata": {
        "id": "rprROI1sufyt"
      },
      "source": [
        "from sklearn.model_selection import train_test_split\n",
        "x_train, x_test, y_train, y_test = train_test_split(\n",
        "                    iris_dataset['data'],iris_dataset['target'],random_state=0)"
      ],
      "execution_count": null,
      "outputs": []
    },
    {
      "cell_type": "markdown",
      "metadata": {
        "id": "JBfgWVRoy6cZ"
      },
      "source": [
        "Now seeing the shapes"
      ]
    },
    {
      "cell_type": "markdown",
      "metadata": {
        "id": "Z9F-XtzNU9aB"
      },
      "source": [
        ""
      ]
    },
    {
      "cell_type": "code",
      "metadata": {
        "colab": {
          "base_uri": "https://localhost:8080/"
        },
        "id": "cHhdAVX5yv6L",
        "outputId": "b26bdd9d-fd6c-474f-d4a5-bbe404d7f3f3"
      },
      "source": [
        "print(\"x_train shape: {}\".format(x_train.shape))\n",
        "print(\"y_train shape:{}\".format(y_train.shape))\n",
        "print(\"x_test shape: {}\".format(x_test.shape))\n",
        "print(\"y_test shape:{}\".format(y_test.shape))"
      ],
      "execution_count": null,
      "outputs": [
        {
          "output_type": "stream",
          "text": [
            "x_train shape: (112, 4)\n",
            "y_train shape:(112,)\n",
            "x_test shape: (38, 4)\n",
            "y_test shape:(38,)\n"
          ],
          "name": "stdout"
        }
      ]
    },
    {
      "cell_type": "code",
      "metadata": {
        "id": "e1s3BAPi0xT-"
      },
      "source": [
        "from sklearn.neighbors import KNeighborsClassifier\n",
        "knn = KNeighborsClassifier(n_neighbors=1)"
      ],
      "execution_count": null,
      "outputs": []
    },
    {
      "cell_type": "markdown",
      "metadata": {
        "id": "mT_8vFNH15lr"
      },
      "source": [
        "Now after creating the modle we have to now train it by using fit function "
      ]
    },
    {
      "cell_type": "code",
      "metadata": {
        "colab": {
          "base_uri": "https://localhost:8080/"
        },
        "id": "Tp_U5HNz2Ot4",
        "outputId": "8c7daac5-0ad1-4bb8-fcf3-a2b0cf758c27"
      },
      "source": [
        "knn.fit(x_train, y_train)"
      ],
      "execution_count": null,
      "outputs": [
        {
          "output_type": "execute_result",
          "data": {
            "text/plain": [
              "KNeighborsClassifier(algorithm='auto', leaf_size=30, metric='minkowski',\n",
              "                     metric_params=None, n_jobs=None, n_neighbors=1, p=2,\n",
              "                     weights='uniform')"
            ]
          },
          "metadata": {
            "tags": []
          },
          "execution_count": 23
        }
      ]
    },
    {
      "cell_type": "code",
      "metadata": {
        "colab": {
          "base_uri": "https://localhost:8080/"
        },
        "id": "kwtSukhr3HP2",
        "outputId": "d311520f-2b8c-4364-e1bc-391fb7bc5b8c"
      },
      "source": [
        "x_new = np.array([[5,2.9,1,0.2]])\n",
        "print(\"x_new.shape: {}\".format(x_new.shape))"
      ],
      "execution_count": null,
      "outputs": [
        {
          "output_type": "stream",
          "text": [
            "x_new.shape: (1, 4)\n"
          ],
          "name": "stdout"
        }
      ]
    },
    {
      "cell_type": "markdown",
      "metadata": {
        "id": "xVa9VRU-5gGo"
      },
      "source": [
        "Now Making pridiction at that data point"
      ]
    },
    {
      "cell_type": "code",
      "metadata": {
        "colab": {
          "base_uri": "https://localhost:8080/"
        },
        "id": "KrohMLf64GWj",
        "outputId": "43ae0a84-4716-404c-ea38-7eea4c503eb0"
      },
      "source": [
        "prediction = knn.predict(x_new)\n",
        "\n",
        "print(\"Prediction: {}\".format(prediction))\n",
        "print(\"Predicted target name: {}\".format(\n",
        "                                      iris_dataset['target_names'][prediction]))"
      ],
      "execution_count": null,
      "outputs": [
        {
          "output_type": "stream",
          "text": [
            "Prediction: [0]\n",
            "Predicted target name: ['setosa']\n"
          ],
          "name": "stdout"
        }
      ]
    },
    {
      "cell_type": "markdown",
      "metadata": {
        "id": "5_Aw23bZ58ve"
      },
      "source": [
        "Now after completing the training process now we have to test the modle"
      ]
    },
    {
      "cell_type": "code",
      "metadata": {
        "colab": {
          "base_uri": "https://localhost:8080/"
        },
        "id": "_Wnx2nxv6J_d",
        "outputId": "67777d67-90cf-4459-c9f7-38a62204bca8"
      },
      "source": [
        "y_pred = knn.predict(x_test)\n",
        "print(\"test set predictions: \\n{}\".format(y_pred))"
      ],
      "execution_count": null,
      "outputs": [
        {
          "output_type": "stream",
          "text": [
            "test set predictions: \n",
            "[2 1 0 2 0 2 0 1 1 1 2 1 1 1 1 0 1 1 0 0 2 1 0 0 2 0 0 1 1 0 2 1 0 2 2 1 0\n",
            " 2]\n"
          ],
          "name": "stdout"
        }
      ]
    },
    {
      "cell_type": "code",
      "metadata": {
        "colab": {
          "base_uri": "https://localhost:8080/"
        },
        "id": "iUyrEG3i6yvn",
        "outputId": "d6d3d325-dbda-460b-ec51-2450be5951ed"
      },
      "source": [
        "print(\"test set score: {}\".format(np.mean(y_pred== y_test)))"
      ],
      "execution_count": null,
      "outputs": [
        {
          "output_type": "stream",
          "text": [
            "test set score: 0.9736842105263158\n"
          ],
          "name": "stdout"
        }
      ]
    }
  ]
}